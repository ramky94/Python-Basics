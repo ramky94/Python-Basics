{
 "cells": [
  {
   "cell_type": "code",
   "execution_count": 6,
   "id": "7af7c3bd",
   "metadata": {},
   "outputs": [],
   "source": [
    "import numpy as np\n",
    "import pandas as pd"
   ]
  },
  {
   "cell_type": "markdown",
   "id": "73604f4c",
   "metadata": {},
   "source": [
    "# Creating a series\n"
   ]
  },
  {
   "cell_type": "code",
   "execution_count": 31,
   "id": "1a9cda60",
   "metadata": {},
   "outputs": [],
   "source": [
    "lables=['a','b','c','d']\n",
    "my_list=[10,20,30]\n",
    "arr=np.array([10,20,30,79])\n",
    "d={'a':40,'b':50,'c':60}"
   ]
  },
  {
   "cell_type": "code",
   "execution_count": 10,
   "id": "f83bbf48",
   "metadata": {},
   "outputs": [
    {
     "data": {
      "text/plain": [
       "0    10\n",
       "1    20\n",
       "2    30\n",
       "dtype: int64"
      ]
     },
     "execution_count": 10,
     "metadata": {},
     "output_type": "execute_result"
    }
   ],
   "source": [
    "pd.Series(data=my_list)"
   ]
  },
  {
   "cell_type": "code",
   "execution_count": 32,
   "id": "db0b4796",
   "metadata": {},
   "outputs": [
    {
     "data": {
      "text/plain": [
       "0    10\n",
       "1    20\n",
       "2    30\n",
       "3    79\n",
       "dtype: int32"
      ]
     },
     "execution_count": 32,
     "metadata": {},
     "output_type": "execute_result"
    }
   ],
   "source": [
    "pd.Series(data=arr)"
   ]
  },
  {
   "cell_type": "code",
   "execution_count": 33,
   "id": "19cc72f9",
   "metadata": {},
   "outputs": [
    {
     "data": {
      "text/plain": [
       "a    10\n",
       "b    20\n",
       "c    30\n",
       "d    79\n",
       "dtype: int32"
      ]
     },
     "execution_count": 33,
     "metadata": {},
     "output_type": "execute_result"
    }
   ],
   "source": [
    "pd.Series(arr,lables)"
   ]
  },
  {
   "cell_type": "code",
   "execution_count": 19,
   "id": "dc60397d",
   "metadata": {},
   "outputs": [
    {
     "data": {
      "text/plain": [
       "a    40.0\n",
       "b    50.0\n",
       "c    60.0\n",
       "d     NaN\n",
       "dtype: float64"
      ]
     },
     "execution_count": 19,
     "metadata": {},
     "output_type": "execute_result"
    }
   ],
   "source": [
    "pd.Series(data=d,index=lables)"
   ]
  },
  {
   "cell_type": "code",
   "execution_count": 34,
   "id": "07c1d48e",
   "metadata": {},
   "outputs": [],
   "source": [
    "ser1=pd.Series([1,2,3,4],index=['usa','germany','uk','japan'])"
   ]
  },
  {
   "cell_type": "code",
   "execution_count": 36,
   "id": "cd088b2d",
   "metadata": {},
   "outputs": [
    {
     "data": {
      "text/plain": [
       "usa        1\n",
       "germany    2\n",
       "uk         3\n",
       "japan      4\n",
       "dtype: int64"
      ]
     },
     "execution_count": 36,
     "metadata": {},
     "output_type": "execute_result"
    }
   ],
   "source": [
    "ser1"
   ]
  },
  {
   "cell_type": "code",
   "execution_count": 38,
   "id": "d0f3a105",
   "metadata": {},
   "outputs": [],
   "source": [
    "ser2=pd.Series([1,2,3,4,5],index=['USA','Germany','India','AUS','BHU'])"
   ]
  },
  {
   "cell_type": "code",
   "execution_count": 39,
   "id": "f5fcfe86",
   "metadata": {},
   "outputs": [
    {
     "data": {
      "text/plain": [
       "USA        1\n",
       "Germany    2\n",
       "India      3\n",
       "AUS        4\n",
       "BHU        5\n",
       "dtype: int64"
      ]
     },
     "execution_count": 39,
     "metadata": {},
     "output_type": "execute_result"
    }
   ],
   "source": [
    "ser2"
   ]
  },
  {
   "cell_type": "code",
   "execution_count": 40,
   "id": "f58dc108",
   "metadata": {},
   "outputs": [
    {
     "data": {
      "text/plain": [
       "AUS       NaN\n",
       "BHU       NaN\n",
       "Germany   NaN\n",
       "India     NaN\n",
       "USA       NaN\n",
       "germany   NaN\n",
       "japan     NaN\n",
       "uk        NaN\n",
       "usa       NaN\n",
       "dtype: float64"
      ]
     },
     "execution_count": 40,
     "metadata": {},
     "output_type": "execute_result"
    }
   ],
   "source": [
    "ser1+ser2"
   ]
  },
  {
   "cell_type": "code",
   "execution_count": 43,
   "id": "03b0c968",
   "metadata": {},
   "outputs": [],
   "source": [
    "import numpy as np\n",
    "import pandas as pd\n",
    "from numpy.random import randn\n",
    "np.random.seed(101)"
   ]
  },
  {
   "cell_type": "code",
   "execution_count": 53,
   "id": "ebeb4a0a",
   "metadata": {},
   "outputs": [],
   "source": [
    "df=pd.DataFrame(randn(5,4),index='A B C D E'.split(),columns='W X Y Z'.split())"
   ]
  },
  {
   "cell_type": "code",
   "execution_count": 56,
   "id": "45417e3b",
   "metadata": {},
   "outputs": [],
   "source": [
    "df1=pd.DataFrame(randn(6,5), index='G H J K L M'.split(),columns='O N C V K'.split())"
   ]
  },
  {
   "cell_type": "code",
   "execution_count": 57,
   "id": "aee945af",
   "metadata": {},
   "outputs": [
    {
     "data": {
      "text/html": [
       "<div>\n",
       "<style scoped>\n",
       "    .dataframe tbody tr th:only-of-type {\n",
       "        vertical-align: middle;\n",
       "    }\n",
       "\n",
       "    .dataframe tbody tr th {\n",
       "        vertical-align: top;\n",
       "    }\n",
       "\n",
       "    .dataframe thead th {\n",
       "        text-align: right;\n",
       "    }\n",
       "</style>\n",
       "<table border=\"1\" class=\"dataframe\">\n",
       "  <thead>\n",
       "    <tr style=\"text-align: right;\">\n",
       "      <th></th>\n",
       "      <th>O</th>\n",
       "      <th>N</th>\n",
       "      <th>C</th>\n",
       "      <th>V</th>\n",
       "      <th>K</th>\n",
       "    </tr>\n",
       "  </thead>\n",
       "  <tbody>\n",
       "    <tr>\n",
       "      <th>G</th>\n",
       "      <td>0.586847</td>\n",
       "      <td>-1.621348</td>\n",
       "      <td>0.677535</td>\n",
       "      <td>0.026105</td>\n",
       "      <td>-1.678284</td>\n",
       "    </tr>\n",
       "    <tr>\n",
       "      <th>H</th>\n",
       "      <td>0.333973</td>\n",
       "      <td>-0.532471</td>\n",
       "      <td>2.117727</td>\n",
       "      <td>0.197524</td>\n",
       "      <td>2.302987</td>\n",
       "    </tr>\n",
       "    <tr>\n",
       "      <th>J</th>\n",
       "      <td>0.729024</td>\n",
       "      <td>-0.863091</td>\n",
       "      <td>0.305632</td>\n",
       "      <td>0.243178</td>\n",
       "      <td>0.864165</td>\n",
       "    </tr>\n",
       "    <tr>\n",
       "      <th>K</th>\n",
       "      <td>-1.560931</td>\n",
       "      <td>-0.251897</td>\n",
       "      <td>-0.578120</td>\n",
       "      <td>0.236996</td>\n",
       "      <td>0.200780</td>\n",
       "    </tr>\n",
       "    <tr>\n",
       "      <th>L</th>\n",
       "      <td>0.327845</td>\n",
       "      <td>0.674485</td>\n",
       "      <td>-0.174057</td>\n",
       "      <td>0.780140</td>\n",
       "      <td>-0.383258</td>\n",
       "    </tr>\n",
       "    <tr>\n",
       "      <th>M</th>\n",
       "      <td>-0.409318</td>\n",
       "      <td>0.343539</td>\n",
       "      <td>0.196275</td>\n",
       "      <td>-0.982776</td>\n",
       "      <td>2.231555</td>\n",
       "    </tr>\n",
       "  </tbody>\n",
       "</table>\n",
       "</div>"
      ],
      "text/plain": [
       "          O         N         C         V         K\n",
       "G  0.586847 -1.621348  0.677535  0.026105 -1.678284\n",
       "H  0.333973 -0.532471  2.117727  0.197524  2.302987\n",
       "J  0.729024 -0.863091  0.305632  0.243178  0.864165\n",
       "K -1.560931 -0.251897 -0.578120  0.236996  0.200780\n",
       "L  0.327845  0.674485 -0.174057  0.780140 -0.383258\n",
       "M -0.409318  0.343539  0.196275 -0.982776  2.231555"
      ]
     },
     "execution_count": 57,
     "metadata": {},
     "output_type": "execute_result"
    }
   ],
   "source": [
    "df1"
   ]
  },
  {
   "cell_type": "code",
   "execution_count": 76,
   "id": "f9bac5d0",
   "metadata": {},
   "outputs": [],
   "source": [
    "df1['new'] = df1['V']+df1['N']"
   ]
  },
  {
   "cell_type": "code",
   "execution_count": 78,
   "id": "2f31266f",
   "metadata": {},
   "outputs": [
    {
     "data": {
      "text/html": [
       "<div>\n",
       "<style scoped>\n",
       "    .dataframe tbody tr th:only-of-type {\n",
       "        vertical-align: middle;\n",
       "    }\n",
       "\n",
       "    .dataframe tbody tr th {\n",
       "        vertical-align: top;\n",
       "    }\n",
       "\n",
       "    .dataframe thead th {\n",
       "        text-align: right;\n",
       "    }\n",
       "</style>\n",
       "<table border=\"1\" class=\"dataframe\">\n",
       "  <thead>\n",
       "    <tr style=\"text-align: right;\">\n",
       "      <th></th>\n",
       "      <th>O</th>\n",
       "      <th>N</th>\n",
       "      <th>C</th>\n",
       "      <th>V</th>\n",
       "      <th>K</th>\n",
       "      <th>new</th>\n",
       "    </tr>\n",
       "  </thead>\n",
       "  <tbody>\n",
       "    <tr>\n",
       "      <th>G</th>\n",
       "      <td>0.586847</td>\n",
       "      <td>-1.621348</td>\n",
       "      <td>0.677535</td>\n",
       "      <td>0.026105</td>\n",
       "      <td>-1.678284</td>\n",
       "      <td>-1.595242</td>\n",
       "    </tr>\n",
       "    <tr>\n",
       "      <th>H</th>\n",
       "      <td>0.333973</td>\n",
       "      <td>-0.532471</td>\n",
       "      <td>2.117727</td>\n",
       "      <td>0.197524</td>\n",
       "      <td>2.302987</td>\n",
       "      <td>-0.334947</td>\n",
       "    </tr>\n",
       "    <tr>\n",
       "      <th>J</th>\n",
       "      <td>0.729024</td>\n",
       "      <td>-0.863091</td>\n",
       "      <td>0.305632</td>\n",
       "      <td>0.243178</td>\n",
       "      <td>0.864165</td>\n",
       "      <td>-0.619914</td>\n",
       "    </tr>\n",
       "    <tr>\n",
       "      <th>K</th>\n",
       "      <td>-1.560931</td>\n",
       "      <td>-0.251897</td>\n",
       "      <td>-0.578120</td>\n",
       "      <td>0.236996</td>\n",
       "      <td>0.200780</td>\n",
       "      <td>-0.014901</td>\n",
       "    </tr>\n",
       "    <tr>\n",
       "      <th>L</th>\n",
       "      <td>0.327845</td>\n",
       "      <td>0.674485</td>\n",
       "      <td>-0.174057</td>\n",
       "      <td>0.780140</td>\n",
       "      <td>-0.383258</td>\n",
       "      <td>1.454625</td>\n",
       "    </tr>\n",
       "    <tr>\n",
       "      <th>M</th>\n",
       "      <td>-0.409318</td>\n",
       "      <td>0.343539</td>\n",
       "      <td>0.196275</td>\n",
       "      <td>-0.982776</td>\n",
       "      <td>2.231555</td>\n",
       "      <td>-0.639237</td>\n",
       "    </tr>\n",
       "  </tbody>\n",
       "</table>\n",
       "</div>"
      ],
      "text/plain": [
       "          O         N         C         V         K       new\n",
       "G  0.586847 -1.621348  0.677535  0.026105 -1.678284 -1.595242\n",
       "H  0.333973 -0.532471  2.117727  0.197524  2.302987 -0.334947\n",
       "J  0.729024 -0.863091  0.305632  0.243178  0.864165 -0.619914\n",
       "K -1.560931 -0.251897 -0.578120  0.236996  0.200780 -0.014901\n",
       "L  0.327845  0.674485 -0.174057  0.780140 -0.383258  1.454625\n",
       "M -0.409318  0.343539  0.196275 -0.982776  2.231555 -0.639237"
      ]
     },
     "execution_count": 78,
     "metadata": {},
     "output_type": "execute_result"
    }
   ],
   "source": [
    "df1"
   ]
  },
  {
   "cell_type": "code",
   "execution_count": 81,
   "id": "7622fd3b",
   "metadata": {},
   "outputs": [
    {
     "data": {
      "text/html": [
       "<div>\n",
       "<style scoped>\n",
       "    .dataframe tbody tr th:only-of-type {\n",
       "        vertical-align: middle;\n",
       "    }\n",
       "\n",
       "    .dataframe tbody tr th {\n",
       "        vertical-align: top;\n",
       "    }\n",
       "\n",
       "    .dataframe thead th {\n",
       "        text-align: right;\n",
       "    }\n",
       "</style>\n",
       "<table border=\"1\" class=\"dataframe\">\n",
       "  <thead>\n",
       "    <tr style=\"text-align: right;\">\n",
       "      <th></th>\n",
       "      <th>O</th>\n",
       "      <th>N</th>\n",
       "      <th>C</th>\n",
       "      <th>V</th>\n",
       "      <th>K</th>\n",
       "    </tr>\n",
       "  </thead>\n",
       "  <tbody>\n",
       "    <tr>\n",
       "      <th>G</th>\n",
       "      <td>0.586847</td>\n",
       "      <td>-1.621348</td>\n",
       "      <td>0.677535</td>\n",
       "      <td>0.026105</td>\n",
       "      <td>-1.678284</td>\n",
       "    </tr>\n",
       "    <tr>\n",
       "      <th>H</th>\n",
       "      <td>0.333973</td>\n",
       "      <td>-0.532471</td>\n",
       "      <td>2.117727</td>\n",
       "      <td>0.197524</td>\n",
       "      <td>2.302987</td>\n",
       "    </tr>\n",
       "    <tr>\n",
       "      <th>J</th>\n",
       "      <td>0.729024</td>\n",
       "      <td>-0.863091</td>\n",
       "      <td>0.305632</td>\n",
       "      <td>0.243178</td>\n",
       "      <td>0.864165</td>\n",
       "    </tr>\n",
       "    <tr>\n",
       "      <th>K</th>\n",
       "      <td>-1.560931</td>\n",
       "      <td>-0.251897</td>\n",
       "      <td>-0.578120</td>\n",
       "      <td>0.236996</td>\n",
       "      <td>0.200780</td>\n",
       "    </tr>\n",
       "    <tr>\n",
       "      <th>L</th>\n",
       "      <td>0.327845</td>\n",
       "      <td>0.674485</td>\n",
       "      <td>-0.174057</td>\n",
       "      <td>0.780140</td>\n",
       "      <td>-0.383258</td>\n",
       "    </tr>\n",
       "    <tr>\n",
       "      <th>M</th>\n",
       "      <td>-0.409318</td>\n",
       "      <td>0.343539</td>\n",
       "      <td>0.196275</td>\n",
       "      <td>-0.982776</td>\n",
       "      <td>2.231555</td>\n",
       "    </tr>\n",
       "  </tbody>\n",
       "</table>\n",
       "</div>"
      ],
      "text/plain": [
       "          O         N         C         V         K\n",
       "G  0.586847 -1.621348  0.677535  0.026105 -1.678284\n",
       "H  0.333973 -0.532471  2.117727  0.197524  2.302987\n",
       "J  0.729024 -0.863091  0.305632  0.243178  0.864165\n",
       "K -1.560931 -0.251897 -0.578120  0.236996  0.200780\n",
       "L  0.327845  0.674485 -0.174057  0.780140 -0.383258\n",
       "M -0.409318  0.343539  0.196275 -0.982776  2.231555"
      ]
     },
     "execution_count": 81,
     "metadata": {},
     "output_type": "execute_result"
    }
   ],
   "source": [
    "df1.drop('new', axis=1)"
   ]
  },
  {
   "cell_type": "code",
   "execution_count": 83,
   "id": "cca4ed2f",
   "metadata": {},
   "outputs": [],
   "source": [
    "df1.drop('new', axis=1,inplace=True)"
   ]
  },
  {
   "cell_type": "code",
   "execution_count": 84,
   "id": "30dc2fdd",
   "metadata": {},
   "outputs": [
    {
     "data": {
      "text/html": [
       "<div>\n",
       "<style scoped>\n",
       "    .dataframe tbody tr th:only-of-type {\n",
       "        vertical-align: middle;\n",
       "    }\n",
       "\n",
       "    .dataframe tbody tr th {\n",
       "        vertical-align: top;\n",
       "    }\n",
       "\n",
       "    .dataframe thead th {\n",
       "        text-align: right;\n",
       "    }\n",
       "</style>\n",
       "<table border=\"1\" class=\"dataframe\">\n",
       "  <thead>\n",
       "    <tr style=\"text-align: right;\">\n",
       "      <th></th>\n",
       "      <th>O</th>\n",
       "      <th>N</th>\n",
       "      <th>C</th>\n",
       "      <th>V</th>\n",
       "      <th>K</th>\n",
       "    </tr>\n",
       "  </thead>\n",
       "  <tbody>\n",
       "    <tr>\n",
       "      <th>G</th>\n",
       "      <td>0.586847</td>\n",
       "      <td>-1.621348</td>\n",
       "      <td>0.677535</td>\n",
       "      <td>0.026105</td>\n",
       "      <td>-1.678284</td>\n",
       "    </tr>\n",
       "    <tr>\n",
       "      <th>H</th>\n",
       "      <td>0.333973</td>\n",
       "      <td>-0.532471</td>\n",
       "      <td>2.117727</td>\n",
       "      <td>0.197524</td>\n",
       "      <td>2.302987</td>\n",
       "    </tr>\n",
       "    <tr>\n",
       "      <th>J</th>\n",
       "      <td>0.729024</td>\n",
       "      <td>-0.863091</td>\n",
       "      <td>0.305632</td>\n",
       "      <td>0.243178</td>\n",
       "      <td>0.864165</td>\n",
       "    </tr>\n",
       "    <tr>\n",
       "      <th>K</th>\n",
       "      <td>-1.560931</td>\n",
       "      <td>-0.251897</td>\n",
       "      <td>-0.578120</td>\n",
       "      <td>0.236996</td>\n",
       "      <td>0.200780</td>\n",
       "    </tr>\n",
       "    <tr>\n",
       "      <th>L</th>\n",
       "      <td>0.327845</td>\n",
       "      <td>0.674485</td>\n",
       "      <td>-0.174057</td>\n",
       "      <td>0.780140</td>\n",
       "      <td>-0.383258</td>\n",
       "    </tr>\n",
       "    <tr>\n",
       "      <th>M</th>\n",
       "      <td>-0.409318</td>\n",
       "      <td>0.343539</td>\n",
       "      <td>0.196275</td>\n",
       "      <td>-0.982776</td>\n",
       "      <td>2.231555</td>\n",
       "    </tr>\n",
       "  </tbody>\n",
       "</table>\n",
       "</div>"
      ],
      "text/plain": [
       "          O         N         C         V         K\n",
       "G  0.586847 -1.621348  0.677535  0.026105 -1.678284\n",
       "H  0.333973 -0.532471  2.117727  0.197524  2.302987\n",
       "J  0.729024 -0.863091  0.305632  0.243178  0.864165\n",
       "K -1.560931 -0.251897 -0.578120  0.236996  0.200780\n",
       "L  0.327845  0.674485 -0.174057  0.780140 -0.383258\n",
       "M -0.409318  0.343539  0.196275 -0.982776  2.231555"
      ]
     },
     "execution_count": 84,
     "metadata": {},
     "output_type": "execute_result"
    }
   ],
   "source": [
    "df1"
   ]
  },
  {
   "cell_type": "code",
   "execution_count": 87,
   "id": "2925f5cd",
   "metadata": {},
   "outputs": [
    {
     "data": {
      "text/html": [
       "<div>\n",
       "<style scoped>\n",
       "    .dataframe tbody tr th:only-of-type {\n",
       "        vertical-align: middle;\n",
       "    }\n",
       "\n",
       "    .dataframe tbody tr th {\n",
       "        vertical-align: top;\n",
       "    }\n",
       "\n",
       "    .dataframe thead th {\n",
       "        text-align: right;\n",
       "    }\n",
       "</style>\n",
       "<table border=\"1\" class=\"dataframe\">\n",
       "  <thead>\n",
       "    <tr style=\"text-align: right;\">\n",
       "      <th></th>\n",
       "      <th>O</th>\n",
       "      <th>N</th>\n",
       "      <th>C</th>\n",
       "      <th>V</th>\n",
       "      <th>K</th>\n",
       "    </tr>\n",
       "  </thead>\n",
       "  <tbody>\n",
       "    <tr>\n",
       "      <th>G</th>\n",
       "      <td>0.586847</td>\n",
       "      <td>-1.621348</td>\n",
       "      <td>0.677535</td>\n",
       "      <td>0.026105</td>\n",
       "      <td>-1.678284</td>\n",
       "    </tr>\n",
       "    <tr>\n",
       "      <th>H</th>\n",
       "      <td>0.333973</td>\n",
       "      <td>-0.532471</td>\n",
       "      <td>2.117727</td>\n",
       "      <td>0.197524</td>\n",
       "      <td>2.302987</td>\n",
       "    </tr>\n",
       "    <tr>\n",
       "      <th>J</th>\n",
       "      <td>0.729024</td>\n",
       "      <td>-0.863091</td>\n",
       "      <td>0.305632</td>\n",
       "      <td>0.243178</td>\n",
       "      <td>0.864165</td>\n",
       "    </tr>\n",
       "    <tr>\n",
       "      <th>K</th>\n",
       "      <td>-1.560931</td>\n",
       "      <td>-0.251897</td>\n",
       "      <td>-0.578120</td>\n",
       "      <td>0.236996</td>\n",
       "      <td>0.200780</td>\n",
       "    </tr>\n",
       "    <tr>\n",
       "      <th>L</th>\n",
       "      <td>0.327845</td>\n",
       "      <td>0.674485</td>\n",
       "      <td>-0.174057</td>\n",
       "      <td>0.780140</td>\n",
       "      <td>-0.383258</td>\n",
       "    </tr>\n",
       "  </tbody>\n",
       "</table>\n",
       "</div>"
      ],
      "text/plain": [
       "          O         N         C         V         K\n",
       "G  0.586847 -1.621348  0.677535  0.026105 -1.678284\n",
       "H  0.333973 -0.532471  2.117727  0.197524  2.302987\n",
       "J  0.729024 -0.863091  0.305632  0.243178  0.864165\n",
       "K -1.560931 -0.251897 -0.578120  0.236996  0.200780\n",
       "L  0.327845  0.674485 -0.174057  0.780140 -0.383258"
      ]
     },
     "execution_count": 87,
     "metadata": {},
     "output_type": "execute_result"
    }
   ],
   "source": [
    "df1.drop('M',axis=0)"
   ]
  },
  {
   "cell_type": "code",
   "execution_count": 92,
   "id": "84adc117",
   "metadata": {},
   "outputs": [
    {
     "data": {
      "text/html": [
       "<div>\n",
       "<style scoped>\n",
       "    .dataframe tbody tr th:only-of-type {\n",
       "        vertical-align: middle;\n",
       "    }\n",
       "\n",
       "    .dataframe tbody tr th {\n",
       "        vertical-align: top;\n",
       "    }\n",
       "\n",
       "    .dataframe thead th {\n",
       "        text-align: right;\n",
       "    }\n",
       "</style>\n",
       "<table border=\"1\" class=\"dataframe\">\n",
       "  <thead>\n",
       "    <tr style=\"text-align: right;\">\n",
       "      <th></th>\n",
       "      <th>O</th>\n",
       "      <th>N</th>\n",
       "      <th>C</th>\n",
       "      <th>V</th>\n",
       "      <th>K</th>\n",
       "    </tr>\n",
       "  </thead>\n",
       "  <tbody>\n",
       "    <tr>\n",
       "      <th>G</th>\n",
       "      <td>0.586847</td>\n",
       "      <td>-1.621348</td>\n",
       "      <td>0.677535</td>\n",
       "      <td>0.026105</td>\n",
       "      <td>-1.678284</td>\n",
       "    </tr>\n",
       "    <tr>\n",
       "      <th>H</th>\n",
       "      <td>0.333973</td>\n",
       "      <td>-0.532471</td>\n",
       "      <td>2.117727</td>\n",
       "      <td>0.197524</td>\n",
       "      <td>2.302987</td>\n",
       "    </tr>\n",
       "    <tr>\n",
       "      <th>J</th>\n",
       "      <td>0.729024</td>\n",
       "      <td>-0.863091</td>\n",
       "      <td>0.305632</td>\n",
       "      <td>0.243178</td>\n",
       "      <td>0.864165</td>\n",
       "    </tr>\n",
       "  </tbody>\n",
       "</table>\n",
       "</div>"
      ],
      "text/plain": [
       "          O         N         C         V         K\n",
       "G  0.586847 -1.621348  0.677535  0.026105 -1.678284\n",
       "H  0.333973 -0.532471  2.117727  0.197524  2.302987\n",
       "J  0.729024 -0.863091  0.305632  0.243178  0.864165"
      ]
     },
     "execution_count": 92,
     "metadata": {},
     "output_type": "execute_result"
    }
   ],
   "source": [
    "df1.loc[['G','H','J']]"
   ]
  },
  {
   "cell_type": "code",
   "execution_count": 95,
   "id": "8e807e05",
   "metadata": {},
   "outputs": [
    {
     "data": {
      "text/plain": [
       "O    0.333973\n",
       "N   -0.532471\n",
       "C    2.117727\n",
       "V    0.197524\n",
       "K    2.302987\n",
       "Name: H, dtype: float64"
      ]
     },
     "execution_count": 95,
     "metadata": {},
     "output_type": "execute_result"
    }
   ],
   "source": [
    "df1.iloc[1]"
   ]
  },
  {
   "cell_type": "code",
   "execution_count": 99,
   "id": "2f1ec66e",
   "metadata": {},
   "outputs": [
    {
     "data": {
      "text/html": [
       "<div>\n",
       "<style scoped>\n",
       "    .dataframe tbody tr th:only-of-type {\n",
       "        vertical-align: middle;\n",
       "    }\n",
       "\n",
       "    .dataframe tbody tr th {\n",
       "        vertical-align: top;\n",
       "    }\n",
       "\n",
       "    .dataframe thead th {\n",
       "        text-align: right;\n",
       "    }\n",
       "</style>\n",
       "<table border=\"1\" class=\"dataframe\">\n",
       "  <thead>\n",
       "    <tr style=\"text-align: right;\">\n",
       "      <th></th>\n",
       "      <th>O</th>\n",
       "      <th>V</th>\n",
       "    </tr>\n",
       "  </thead>\n",
       "  <tbody>\n",
       "    <tr>\n",
       "      <th>G</th>\n",
       "      <td>0.586847</td>\n",
       "      <td>0.026105</td>\n",
       "    </tr>\n",
       "    <tr>\n",
       "      <th>H</th>\n",
       "      <td>0.333973</td>\n",
       "      <td>0.197524</td>\n",
       "    </tr>\n",
       "  </tbody>\n",
       "</table>\n",
       "</div>"
      ],
      "text/plain": [
       "          O         V\n",
       "G  0.586847  0.026105\n",
       "H  0.333973  0.197524"
      ]
     },
     "execution_count": 99,
     "metadata": {},
     "output_type": "execute_result"
    }
   ],
   "source": [
    "df1.loc[['G','H'],['O','V']]"
   ]
  },
  {
   "cell_type": "code",
   "execution_count": 100,
   "id": "1d86b8b0",
   "metadata": {},
   "outputs": [
    {
     "data": {
      "text/html": [
       "<div>\n",
       "<style scoped>\n",
       "    .dataframe tbody tr th:only-of-type {\n",
       "        vertical-align: middle;\n",
       "    }\n",
       "\n",
       "    .dataframe tbody tr th {\n",
       "        vertical-align: top;\n",
       "    }\n",
       "\n",
       "    .dataframe thead th {\n",
       "        text-align: right;\n",
       "    }\n",
       "</style>\n",
       "<table border=\"1\" class=\"dataframe\">\n",
       "  <thead>\n",
       "    <tr style=\"text-align: right;\">\n",
       "      <th></th>\n",
       "      <th>O</th>\n",
       "      <th>N</th>\n",
       "      <th>C</th>\n",
       "      <th>V</th>\n",
       "      <th>K</th>\n",
       "    </tr>\n",
       "  </thead>\n",
       "  <tbody>\n",
       "    <tr>\n",
       "      <th>G</th>\n",
       "      <td>True</td>\n",
       "      <td>False</td>\n",
       "      <td>True</td>\n",
       "      <td>True</td>\n",
       "      <td>False</td>\n",
       "    </tr>\n",
       "    <tr>\n",
       "      <th>H</th>\n",
       "      <td>True</td>\n",
       "      <td>False</td>\n",
       "      <td>True</td>\n",
       "      <td>True</td>\n",
       "      <td>True</td>\n",
       "    </tr>\n",
       "    <tr>\n",
       "      <th>J</th>\n",
       "      <td>True</td>\n",
       "      <td>False</td>\n",
       "      <td>True</td>\n",
       "      <td>True</td>\n",
       "      <td>True</td>\n",
       "    </tr>\n",
       "    <tr>\n",
       "      <th>K</th>\n",
       "      <td>False</td>\n",
       "      <td>False</td>\n",
       "      <td>False</td>\n",
       "      <td>True</td>\n",
       "      <td>True</td>\n",
       "    </tr>\n",
       "    <tr>\n",
       "      <th>L</th>\n",
       "      <td>True</td>\n",
       "      <td>True</td>\n",
       "      <td>False</td>\n",
       "      <td>True</td>\n",
       "      <td>False</td>\n",
       "    </tr>\n",
       "    <tr>\n",
       "      <th>M</th>\n",
       "      <td>False</td>\n",
       "      <td>True</td>\n",
       "      <td>True</td>\n",
       "      <td>False</td>\n",
       "      <td>True</td>\n",
       "    </tr>\n",
       "  </tbody>\n",
       "</table>\n",
       "</div>"
      ],
      "text/plain": [
       "       O      N      C      V      K\n",
       "G   True  False   True   True  False\n",
       "H   True  False   True   True   True\n",
       "J   True  False   True   True   True\n",
       "K  False  False  False   True   True\n",
       "L   True   True  False   True  False\n",
       "M  False   True   True  False   True"
      ]
     },
     "execution_count": 100,
     "metadata": {},
     "output_type": "execute_result"
    }
   ],
   "source": [
    "df1>0"
   ]
  },
  {
   "cell_type": "code",
   "execution_count": 101,
   "id": "85ecee36",
   "metadata": {},
   "outputs": [
    {
     "data": {
      "text/html": [
       "<div>\n",
       "<style scoped>\n",
       "    .dataframe tbody tr th:only-of-type {\n",
       "        vertical-align: middle;\n",
       "    }\n",
       "\n",
       "    .dataframe tbody tr th {\n",
       "        vertical-align: top;\n",
       "    }\n",
       "\n",
       "    .dataframe thead th {\n",
       "        text-align: right;\n",
       "    }\n",
       "</style>\n",
       "<table border=\"1\" class=\"dataframe\">\n",
       "  <thead>\n",
       "    <tr style=\"text-align: right;\">\n",
       "      <th></th>\n",
       "      <th>O</th>\n",
       "      <th>N</th>\n",
       "      <th>C</th>\n",
       "      <th>V</th>\n",
       "      <th>K</th>\n",
       "    </tr>\n",
       "  </thead>\n",
       "  <tbody>\n",
       "    <tr>\n",
       "      <th>G</th>\n",
       "      <td>0.586847</td>\n",
       "      <td>NaN</td>\n",
       "      <td>0.677535</td>\n",
       "      <td>0.026105</td>\n",
       "      <td>NaN</td>\n",
       "    </tr>\n",
       "    <tr>\n",
       "      <th>H</th>\n",
       "      <td>0.333973</td>\n",
       "      <td>NaN</td>\n",
       "      <td>2.117727</td>\n",
       "      <td>0.197524</td>\n",
       "      <td>2.302987</td>\n",
       "    </tr>\n",
       "    <tr>\n",
       "      <th>J</th>\n",
       "      <td>0.729024</td>\n",
       "      <td>NaN</td>\n",
       "      <td>0.305632</td>\n",
       "      <td>0.243178</td>\n",
       "      <td>0.864165</td>\n",
       "    </tr>\n",
       "    <tr>\n",
       "      <th>K</th>\n",
       "      <td>NaN</td>\n",
       "      <td>NaN</td>\n",
       "      <td>NaN</td>\n",
       "      <td>0.236996</td>\n",
       "      <td>0.200780</td>\n",
       "    </tr>\n",
       "    <tr>\n",
       "      <th>L</th>\n",
       "      <td>0.327845</td>\n",
       "      <td>0.674485</td>\n",
       "      <td>NaN</td>\n",
       "      <td>0.780140</td>\n",
       "      <td>NaN</td>\n",
       "    </tr>\n",
       "    <tr>\n",
       "      <th>M</th>\n",
       "      <td>NaN</td>\n",
       "      <td>0.343539</td>\n",
       "      <td>0.196275</td>\n",
       "      <td>NaN</td>\n",
       "      <td>2.231555</td>\n",
       "    </tr>\n",
       "  </tbody>\n",
       "</table>\n",
       "</div>"
      ],
      "text/plain": [
       "          O         N         C         V         K\n",
       "G  0.586847       NaN  0.677535  0.026105       NaN\n",
       "H  0.333973       NaN  2.117727  0.197524  2.302987\n",
       "J  0.729024       NaN  0.305632  0.243178  0.864165\n",
       "K       NaN       NaN       NaN  0.236996  0.200780\n",
       "L  0.327845  0.674485       NaN  0.780140       NaN\n",
       "M       NaN  0.343539  0.196275       NaN  2.231555"
      ]
     },
     "execution_count": 101,
     "metadata": {},
     "output_type": "execute_result"
    }
   ],
   "source": [
    "df1[df1>0]"
   ]
  },
  {
   "cell_type": "code",
   "execution_count": 107,
   "id": "2129c586",
   "metadata": {},
   "outputs": [
    {
     "data": {
      "text/html": [
       "<div>\n",
       "<style scoped>\n",
       "    .dataframe tbody tr th:only-of-type {\n",
       "        vertical-align: middle;\n",
       "    }\n",
       "\n",
       "    .dataframe tbody tr th {\n",
       "        vertical-align: top;\n",
       "    }\n",
       "\n",
       "    .dataframe thead th {\n",
       "        text-align: right;\n",
       "    }\n",
       "</style>\n",
       "<table border=\"1\" class=\"dataframe\">\n",
       "  <thead>\n",
       "    <tr style=\"text-align: right;\">\n",
       "      <th></th>\n",
       "      <th>O</th>\n",
       "      <th>N</th>\n",
       "      <th>C</th>\n",
       "      <th>V</th>\n",
       "      <th>K</th>\n",
       "    </tr>\n",
       "  </thead>\n",
       "  <tbody>\n",
       "    <tr>\n",
       "      <th>L</th>\n",
       "      <td>0.327845</td>\n",
       "      <td>0.674485</td>\n",
       "      <td>-0.174057</td>\n",
       "      <td>0.780140</td>\n",
       "      <td>-0.383258</td>\n",
       "    </tr>\n",
       "    <tr>\n",
       "      <th>M</th>\n",
       "      <td>-0.409318</td>\n",
       "      <td>0.343539</td>\n",
       "      <td>0.196275</td>\n",
       "      <td>-0.982776</td>\n",
       "      <td>2.231555</td>\n",
       "    </tr>\n",
       "  </tbody>\n",
       "</table>\n",
       "</div>"
      ],
      "text/plain": [
       "          O         N         C         V         K\n",
       "L  0.327845  0.674485 -0.174057  0.780140 -0.383258\n",
       "M -0.409318  0.343539  0.196275 -0.982776  2.231555"
      ]
     },
     "execution_count": 107,
     "metadata": {},
     "output_type": "execute_result"
    }
   ],
   "source": [
    "df1[df1['N']>0]\n"
   ]
  },
  {
   "cell_type": "code",
   "execution_count": 109,
   "id": "114d10dd",
   "metadata": {},
   "outputs": [
    {
     "data": {
      "text/plain": [
       "G   -1.678284\n",
       "H    2.302987\n",
       "J    0.864165\n",
       "K    0.200780\n",
       "L   -0.383258\n",
       "Name: K, dtype: float64"
      ]
     },
     "execution_count": 109,
     "metadata": {},
     "output_type": "execute_result"
    }
   ],
   "source": [
    "df1[df1['V']>0]['K']"
   ]
  },
  {
   "cell_type": "code",
   "execution_count": 110,
   "id": "b7ff380b",
   "metadata": {},
   "outputs": [
    {
     "data": {
      "text/html": [
       "<div>\n",
       "<style scoped>\n",
       "    .dataframe tbody tr th:only-of-type {\n",
       "        vertical-align: middle;\n",
       "    }\n",
       "\n",
       "    .dataframe tbody tr th {\n",
       "        vertical-align: top;\n",
       "    }\n",
       "\n",
       "    .dataframe thead th {\n",
       "        text-align: right;\n",
       "    }\n",
       "</style>\n",
       "<table border=\"1\" class=\"dataframe\">\n",
       "  <thead>\n",
       "    <tr style=\"text-align: right;\">\n",
       "      <th></th>\n",
       "      <th>C</th>\n",
       "      <th>K</th>\n",
       "    </tr>\n",
       "  </thead>\n",
       "  <tbody>\n",
       "    <tr>\n",
       "      <th>G</th>\n",
       "      <td>0.677535</td>\n",
       "      <td>-1.678284</td>\n",
       "    </tr>\n",
       "    <tr>\n",
       "      <th>H</th>\n",
       "      <td>2.117727</td>\n",
       "      <td>2.302987</td>\n",
       "    </tr>\n",
       "    <tr>\n",
       "      <th>J</th>\n",
       "      <td>0.305632</td>\n",
       "      <td>0.864165</td>\n",
       "    </tr>\n",
       "    <tr>\n",
       "      <th>L</th>\n",
       "      <td>-0.174057</td>\n",
       "      <td>-0.383258</td>\n",
       "    </tr>\n",
       "  </tbody>\n",
       "</table>\n",
       "</div>"
      ],
      "text/plain": [
       "          C         K\n",
       "G  0.677535 -1.678284\n",
       "H  2.117727  2.302987\n",
       "J  0.305632  0.864165\n",
       "L -0.174057 -0.383258"
      ]
     },
     "execution_count": 110,
     "metadata": {},
     "output_type": "execute_result"
    }
   ],
   "source": [
    "df1[df1['O']>0][['C','K']]"
   ]
  },
  {
   "cell_type": "code",
   "execution_count": 115,
   "id": "17edd14c",
   "metadata": {},
   "outputs": [
    {
     "data": {
      "text/html": [
       "<div>\n",
       "<style scoped>\n",
       "    .dataframe tbody tr th:only-of-type {\n",
       "        vertical-align: middle;\n",
       "    }\n",
       "\n",
       "    .dataframe tbody tr th {\n",
       "        vertical-align: top;\n",
       "    }\n",
       "\n",
       "    .dataframe thead th {\n",
       "        text-align: right;\n",
       "    }\n",
       "</style>\n",
       "<table border=\"1\" class=\"dataframe\">\n",
       "  <thead>\n",
       "    <tr style=\"text-align: right;\">\n",
       "      <th></th>\n",
       "      <th>O</th>\n",
       "      <th>N</th>\n",
       "      <th>C</th>\n",
       "      <th>V</th>\n",
       "      <th>K</th>\n",
       "    </tr>\n",
       "  </thead>\n",
       "  <tbody>\n",
       "    <tr>\n",
       "      <th>L</th>\n",
       "      <td>0.327845</td>\n",
       "      <td>0.674485</td>\n",
       "      <td>-0.174057</td>\n",
       "      <td>0.780140</td>\n",
       "      <td>-0.383258</td>\n",
       "    </tr>\n",
       "    <tr>\n",
       "      <th>M</th>\n",
       "      <td>-0.409318</td>\n",
       "      <td>0.343539</td>\n",
       "      <td>0.196275</td>\n",
       "      <td>-0.982776</td>\n",
       "      <td>2.231555</td>\n",
       "    </tr>\n",
       "  </tbody>\n",
       "</table>\n",
       "</div>"
      ],
      "text/plain": [
       "          O         N         C         V         K\n",
       "L  0.327845  0.674485 -0.174057  0.780140 -0.383258\n",
       "M -0.409318  0.343539  0.196275 -0.982776  2.231555"
      ]
     },
     "execution_count": 115,
     "metadata": {},
     "output_type": "execute_result"
    }
   ],
   "source": [
    "df1[(df1['N']>0) | (df1['V']>1)]"
   ]
  },
  {
   "cell_type": "code",
   "execution_count": 117,
   "id": "6d4161ef",
   "metadata": {},
   "outputs": [
    {
     "data": {
      "text/html": [
       "<div>\n",
       "<style scoped>\n",
       "    .dataframe tbody tr th:only-of-type {\n",
       "        vertical-align: middle;\n",
       "    }\n",
       "\n",
       "    .dataframe tbody tr th {\n",
       "        vertical-align: top;\n",
       "    }\n",
       "\n",
       "    .dataframe thead th {\n",
       "        text-align: right;\n",
       "    }\n",
       "</style>\n",
       "<table border=\"1\" class=\"dataframe\">\n",
       "  <thead>\n",
       "    <tr style=\"text-align: right;\">\n",
       "      <th></th>\n",
       "      <th>O</th>\n",
       "      <th>N</th>\n",
       "      <th>C</th>\n",
       "      <th>V</th>\n",
       "      <th>K</th>\n",
       "    </tr>\n",
       "  </thead>\n",
       "  <tbody>\n",
       "    <tr>\n",
       "      <th>G</th>\n",
       "      <td>0.586847</td>\n",
       "      <td>-1.621348</td>\n",
       "      <td>0.677535</td>\n",
       "      <td>0.026105</td>\n",
       "      <td>-1.678284</td>\n",
       "    </tr>\n",
       "    <tr>\n",
       "      <th>H</th>\n",
       "      <td>0.333973</td>\n",
       "      <td>-0.532471</td>\n",
       "      <td>2.117727</td>\n",
       "      <td>0.197524</td>\n",
       "      <td>2.302987</td>\n",
       "    </tr>\n",
       "    <tr>\n",
       "      <th>J</th>\n",
       "      <td>0.729024</td>\n",
       "      <td>-0.863091</td>\n",
       "      <td>0.305632</td>\n",
       "      <td>0.243178</td>\n",
       "      <td>0.864165</td>\n",
       "    </tr>\n",
       "    <tr>\n",
       "      <th>K</th>\n",
       "      <td>-1.560931</td>\n",
       "      <td>-0.251897</td>\n",
       "      <td>-0.578120</td>\n",
       "      <td>0.236996</td>\n",
       "      <td>0.200780</td>\n",
       "    </tr>\n",
       "    <tr>\n",
       "      <th>L</th>\n",
       "      <td>0.327845</td>\n",
       "      <td>0.674485</td>\n",
       "      <td>-0.174057</td>\n",
       "      <td>0.780140</td>\n",
       "      <td>-0.383258</td>\n",
       "    </tr>\n",
       "    <tr>\n",
       "      <th>M</th>\n",
       "      <td>-0.409318</td>\n",
       "      <td>0.343539</td>\n",
       "      <td>0.196275</td>\n",
       "      <td>-0.982776</td>\n",
       "      <td>2.231555</td>\n",
       "    </tr>\n",
       "  </tbody>\n",
       "</table>\n",
       "</div>"
      ],
      "text/plain": [
       "          O         N         C         V         K\n",
       "G  0.586847 -1.621348  0.677535  0.026105 -1.678284\n",
       "H  0.333973 -0.532471  2.117727  0.197524  2.302987\n",
       "J  0.729024 -0.863091  0.305632  0.243178  0.864165\n",
       "K -1.560931 -0.251897 -0.578120  0.236996  0.200780\n",
       "L  0.327845  0.674485 -0.174057  0.780140 -0.383258\n",
       "M -0.409318  0.343539  0.196275 -0.982776  2.231555"
      ]
     },
     "execution_count": 117,
     "metadata": {},
     "output_type": "execute_result"
    }
   ],
   "source": [
    "df1"
   ]
  },
  {
   "cell_type": "code",
   "execution_count": 122,
   "id": "4a5a973a",
   "metadata": {},
   "outputs": [
    {
     "data": {
      "text/html": [
       "<div>\n",
       "<style scoped>\n",
       "    .dataframe tbody tr th:only-of-type {\n",
       "        vertical-align: middle;\n",
       "    }\n",
       "\n",
       "    .dataframe tbody tr th {\n",
       "        vertical-align: top;\n",
       "    }\n",
       "\n",
       "    .dataframe thead th {\n",
       "        text-align: right;\n",
       "    }\n",
       "</style>\n",
       "<table border=\"1\" class=\"dataframe\">\n",
       "  <thead>\n",
       "    <tr style=\"text-align: right;\">\n",
       "      <th></th>\n",
       "      <th>index</th>\n",
       "      <th>O</th>\n",
       "      <th>N</th>\n",
       "      <th>C</th>\n",
       "      <th>V</th>\n",
       "      <th>K</th>\n",
       "    </tr>\n",
       "  </thead>\n",
       "  <tbody>\n",
       "    <tr>\n",
       "      <th>0</th>\n",
       "      <td>G</td>\n",
       "      <td>0.586847</td>\n",
       "      <td>-1.621348</td>\n",
       "      <td>0.677535</td>\n",
       "      <td>0.026105</td>\n",
       "      <td>-1.678284</td>\n",
       "    </tr>\n",
       "    <tr>\n",
       "      <th>1</th>\n",
       "      <td>H</td>\n",
       "      <td>0.333973</td>\n",
       "      <td>-0.532471</td>\n",
       "      <td>2.117727</td>\n",
       "      <td>0.197524</td>\n",
       "      <td>2.302987</td>\n",
       "    </tr>\n",
       "    <tr>\n",
       "      <th>2</th>\n",
       "      <td>J</td>\n",
       "      <td>0.729024</td>\n",
       "      <td>-0.863091</td>\n",
       "      <td>0.305632</td>\n",
       "      <td>0.243178</td>\n",
       "      <td>0.864165</td>\n",
       "    </tr>\n",
       "    <tr>\n",
       "      <th>3</th>\n",
       "      <td>K</td>\n",
       "      <td>-1.560931</td>\n",
       "      <td>-0.251897</td>\n",
       "      <td>-0.578120</td>\n",
       "      <td>0.236996</td>\n",
       "      <td>0.200780</td>\n",
       "    </tr>\n",
       "    <tr>\n",
       "      <th>4</th>\n",
       "      <td>L</td>\n",
       "      <td>0.327845</td>\n",
       "      <td>0.674485</td>\n",
       "      <td>-0.174057</td>\n",
       "      <td>0.780140</td>\n",
       "      <td>-0.383258</td>\n",
       "    </tr>\n",
       "    <tr>\n",
       "      <th>5</th>\n",
       "      <td>M</td>\n",
       "      <td>-0.409318</td>\n",
       "      <td>0.343539</td>\n",
       "      <td>0.196275</td>\n",
       "      <td>-0.982776</td>\n",
       "      <td>2.231555</td>\n",
       "    </tr>\n",
       "  </tbody>\n",
       "</table>\n",
       "</div>"
      ],
      "text/plain": [
       "  index         O         N         C         V         K\n",
       "0     G  0.586847 -1.621348  0.677535  0.026105 -1.678284\n",
       "1     H  0.333973 -0.532471  2.117727  0.197524  2.302987\n",
       "2     J  0.729024 -0.863091  0.305632  0.243178  0.864165\n",
       "3     K -1.560931 -0.251897 -0.578120  0.236996  0.200780\n",
       "4     L  0.327845  0.674485 -0.174057  0.780140 -0.383258\n",
       "5     M -0.409318  0.343539  0.196275 -0.982776  2.231555"
      ]
     },
     "execution_count": 122,
     "metadata": {},
     "output_type": "execute_result"
    }
   ],
   "source": [
    "df1.reset_index()"
   ]
  },
  {
   "cell_type": "code",
   "execution_count": 126,
   "id": "f4fb5fc2",
   "metadata": {},
   "outputs": [],
   "source": [
    "newind = 'CA NY WY OR CO NA'.split()"
   ]
  },
  {
   "cell_type": "code",
   "execution_count": 127,
   "id": "fc5c289d",
   "metadata": {},
   "outputs": [
    {
     "data": {
      "text/plain": [
       "['CA', 'NY', 'WY', 'OR', 'CO', 'NA']"
      ]
     },
     "execution_count": 127,
     "metadata": {},
     "output_type": "execute_result"
    }
   ],
   "source": [
    "newind"
   ]
  },
  {
   "cell_type": "code",
   "execution_count": 128,
   "id": "dc05f4b7",
   "metadata": {},
   "outputs": [],
   "source": [
    "df1[\"states\"]= newind"
   ]
  },
  {
   "cell_type": "code",
   "execution_count": 129,
   "id": "f9b3764e",
   "metadata": {},
   "outputs": [
    {
     "data": {
      "text/html": [
       "<div>\n",
       "<style scoped>\n",
       "    .dataframe tbody tr th:only-of-type {\n",
       "        vertical-align: middle;\n",
       "    }\n",
       "\n",
       "    .dataframe tbody tr th {\n",
       "        vertical-align: top;\n",
       "    }\n",
       "\n",
       "    .dataframe thead th {\n",
       "        text-align: right;\n",
       "    }\n",
       "</style>\n",
       "<table border=\"1\" class=\"dataframe\">\n",
       "  <thead>\n",
       "    <tr style=\"text-align: right;\">\n",
       "      <th></th>\n",
       "      <th>O</th>\n",
       "      <th>N</th>\n",
       "      <th>C</th>\n",
       "      <th>V</th>\n",
       "      <th>K</th>\n",
       "      <th>states</th>\n",
       "    </tr>\n",
       "  </thead>\n",
       "  <tbody>\n",
       "    <tr>\n",
       "      <th>G</th>\n",
       "      <td>0.586847</td>\n",
       "      <td>-1.621348</td>\n",
       "      <td>0.677535</td>\n",
       "      <td>0.026105</td>\n",
       "      <td>-1.678284</td>\n",
       "      <td>CA</td>\n",
       "    </tr>\n",
       "    <tr>\n",
       "      <th>H</th>\n",
       "      <td>0.333973</td>\n",
       "      <td>-0.532471</td>\n",
       "      <td>2.117727</td>\n",
       "      <td>0.197524</td>\n",
       "      <td>2.302987</td>\n",
       "      <td>NY</td>\n",
       "    </tr>\n",
       "    <tr>\n",
       "      <th>J</th>\n",
       "      <td>0.729024</td>\n",
       "      <td>-0.863091</td>\n",
       "      <td>0.305632</td>\n",
       "      <td>0.243178</td>\n",
       "      <td>0.864165</td>\n",
       "      <td>WY</td>\n",
       "    </tr>\n",
       "    <tr>\n",
       "      <th>K</th>\n",
       "      <td>-1.560931</td>\n",
       "      <td>-0.251897</td>\n",
       "      <td>-0.578120</td>\n",
       "      <td>0.236996</td>\n",
       "      <td>0.200780</td>\n",
       "      <td>OR</td>\n",
       "    </tr>\n",
       "    <tr>\n",
       "      <th>L</th>\n",
       "      <td>0.327845</td>\n",
       "      <td>0.674485</td>\n",
       "      <td>-0.174057</td>\n",
       "      <td>0.780140</td>\n",
       "      <td>-0.383258</td>\n",
       "      <td>CO</td>\n",
       "    </tr>\n",
       "    <tr>\n",
       "      <th>M</th>\n",
       "      <td>-0.409318</td>\n",
       "      <td>0.343539</td>\n",
       "      <td>0.196275</td>\n",
       "      <td>-0.982776</td>\n",
       "      <td>2.231555</td>\n",
       "      <td>NA</td>\n",
       "    </tr>\n",
       "  </tbody>\n",
       "</table>\n",
       "</div>"
      ],
      "text/plain": [
       "          O         N         C         V         K states\n",
       "G  0.586847 -1.621348  0.677535  0.026105 -1.678284     CA\n",
       "H  0.333973 -0.532471  2.117727  0.197524  2.302987     NY\n",
       "J  0.729024 -0.863091  0.305632  0.243178  0.864165     WY\n",
       "K -1.560931 -0.251897 -0.578120  0.236996  0.200780     OR\n",
       "L  0.327845  0.674485 -0.174057  0.780140 -0.383258     CO\n",
       "M -0.409318  0.343539  0.196275 -0.982776  2.231555     NA"
      ]
     },
     "execution_count": 129,
     "metadata": {},
     "output_type": "execute_result"
    }
   ],
   "source": [
    "df1"
   ]
  },
  {
   "cell_type": "code",
   "execution_count": 133,
   "id": "526f6ebb",
   "metadata": {},
   "outputs": [
    {
     "ename": "KeyError",
     "evalue": "\"None of ['States'] are in the columns\"",
     "output_type": "error",
     "traceback": [
      "\u001b[1;31m---------------------------------------------------------------------------\u001b[0m",
      "\u001b[1;31mKeyError\u001b[0m                                  Traceback (most recent call last)",
      "\u001b[1;32m<ipython-input-133-92b6c1788643>\u001b[0m in \u001b[0;36m<module>\u001b[1;34m\u001b[0m\n\u001b[1;32m----> 1\u001b[1;33m \u001b[0mdf\u001b[0m\u001b[1;33m.\u001b[0m\u001b[0mset_index\u001b[0m\u001b[1;33m(\u001b[0m\u001b[1;34m'States'\u001b[0m\u001b[1;33m,\u001b[0m\u001b[0minplace\u001b[0m\u001b[1;33m=\u001b[0m\u001b[1;32mTrue\u001b[0m\u001b[1;33m)\u001b[0m\u001b[1;33m\u001b[0m\u001b[1;33m\u001b[0m\u001b[0m\n\u001b[0m",
      "\u001b[1;32m~\\anaconda3\\lib\\site-packages\\pandas\\core\\frame.py\u001b[0m in \u001b[0;36mset_index\u001b[1;34m(self, keys, drop, append, inplace, verify_integrity)\u001b[0m\n\u001b[0;32m   4725\u001b[0m \u001b[1;33m\u001b[0m\u001b[0m\n\u001b[0;32m   4726\u001b[0m         \u001b[1;32mif\u001b[0m \u001b[0mmissing\u001b[0m\u001b[1;33m:\u001b[0m\u001b[1;33m\u001b[0m\u001b[1;33m\u001b[0m\u001b[0m\n\u001b[1;32m-> 4727\u001b[1;33m             \u001b[1;32mraise\u001b[0m \u001b[0mKeyError\u001b[0m\u001b[1;33m(\u001b[0m\u001b[1;34mf\"None of {missing} are in the columns\"\u001b[0m\u001b[1;33m)\u001b[0m\u001b[1;33m\u001b[0m\u001b[1;33m\u001b[0m\u001b[0m\n\u001b[0m\u001b[0;32m   4728\u001b[0m \u001b[1;33m\u001b[0m\u001b[0m\n\u001b[0;32m   4729\u001b[0m         \u001b[1;32mif\u001b[0m \u001b[0minplace\u001b[0m\u001b[1;33m:\u001b[0m\u001b[1;33m\u001b[0m\u001b[1;33m\u001b[0m\u001b[0m\n",
      "\u001b[1;31mKeyError\u001b[0m: \"None of ['States'] are in the columns\""
     ]
    }
   ],
   "source": [
    "df.set_index('States',inplace=True)"
   ]
  },
  {
   "cell_type": "code",
   "execution_count": 131,
   "id": "44a5b7b5",
   "metadata": {},
   "outputs": [
    {
     "data": {
      "text/html": [
       "<div>\n",
       "<style scoped>\n",
       "    .dataframe tbody tr th:only-of-type {\n",
       "        vertical-align: middle;\n",
       "    }\n",
       "\n",
       "    .dataframe tbody tr th {\n",
       "        vertical-align: top;\n",
       "    }\n",
       "\n",
       "    .dataframe thead th {\n",
       "        text-align: right;\n",
       "    }\n",
       "</style>\n",
       "<table border=\"1\" class=\"dataframe\">\n",
       "  <thead>\n",
       "    <tr style=\"text-align: right;\">\n",
       "      <th></th>\n",
       "      <th>O</th>\n",
       "      <th>N</th>\n",
       "      <th>C</th>\n",
       "      <th>V</th>\n",
       "      <th>K</th>\n",
       "    </tr>\n",
       "    <tr>\n",
       "      <th>states</th>\n",
       "      <th></th>\n",
       "      <th></th>\n",
       "      <th></th>\n",
       "      <th></th>\n",
       "      <th></th>\n",
       "    </tr>\n",
       "  </thead>\n",
       "  <tbody>\n",
       "    <tr>\n",
       "      <th>CA</th>\n",
       "      <td>0.586847</td>\n",
       "      <td>-1.621348</td>\n",
       "      <td>0.677535</td>\n",
       "      <td>0.026105</td>\n",
       "      <td>-1.678284</td>\n",
       "    </tr>\n",
       "    <tr>\n",
       "      <th>NY</th>\n",
       "      <td>0.333973</td>\n",
       "      <td>-0.532471</td>\n",
       "      <td>2.117727</td>\n",
       "      <td>0.197524</td>\n",
       "      <td>2.302987</td>\n",
       "    </tr>\n",
       "    <tr>\n",
       "      <th>WY</th>\n",
       "      <td>0.729024</td>\n",
       "      <td>-0.863091</td>\n",
       "      <td>0.305632</td>\n",
       "      <td>0.243178</td>\n",
       "      <td>0.864165</td>\n",
       "    </tr>\n",
       "    <tr>\n",
       "      <th>OR</th>\n",
       "      <td>-1.560931</td>\n",
       "      <td>-0.251897</td>\n",
       "      <td>-0.578120</td>\n",
       "      <td>0.236996</td>\n",
       "      <td>0.200780</td>\n",
       "    </tr>\n",
       "    <tr>\n",
       "      <th>CO</th>\n",
       "      <td>0.327845</td>\n",
       "      <td>0.674485</td>\n",
       "      <td>-0.174057</td>\n",
       "      <td>0.780140</td>\n",
       "      <td>-0.383258</td>\n",
       "    </tr>\n",
       "    <tr>\n",
       "      <th>NA</th>\n",
       "      <td>-0.409318</td>\n",
       "      <td>0.343539</td>\n",
       "      <td>0.196275</td>\n",
       "      <td>-0.982776</td>\n",
       "      <td>2.231555</td>\n",
       "    </tr>\n",
       "  </tbody>\n",
       "</table>\n",
       "</div>"
      ],
      "text/plain": [
       "               O         N         C         V         K\n",
       "states                                                  \n",
       "CA      0.586847 -1.621348  0.677535  0.026105 -1.678284\n",
       "NY      0.333973 -0.532471  2.117727  0.197524  2.302987\n",
       "WY      0.729024 -0.863091  0.305632  0.243178  0.864165\n",
       "OR     -1.560931 -0.251897 -0.578120  0.236996  0.200780\n",
       "CO      0.327845  0.674485 -0.174057  0.780140 -0.383258\n",
       "NA     -0.409318  0.343539  0.196275 -0.982776  2.231555"
      ]
     },
     "execution_count": 131,
     "metadata": {},
     "output_type": "execute_result"
    }
   ],
   "source": [
    "df1.set_index('states')"
   ]
  },
  {
   "cell_type": "code",
   "execution_count": 132,
   "id": "aba533b3",
   "metadata": {},
   "outputs": [
    {
     "ename": "KeyError",
     "evalue": "\"None of ['States'] are in the columns\"",
     "output_type": "error",
     "traceback": [
      "\u001b[1;31m---------------------------------------------------------------------------\u001b[0m",
      "\u001b[1;31mKeyError\u001b[0m                                  Traceback (most recent call last)",
      "\u001b[1;32m<ipython-input-132-92b6c1788643>\u001b[0m in \u001b[0;36m<module>\u001b[1;34m\u001b[0m\n\u001b[1;32m----> 1\u001b[1;33m \u001b[0mdf\u001b[0m\u001b[1;33m.\u001b[0m\u001b[0mset_index\u001b[0m\u001b[1;33m(\u001b[0m\u001b[1;34m'States'\u001b[0m\u001b[1;33m,\u001b[0m\u001b[0minplace\u001b[0m\u001b[1;33m=\u001b[0m\u001b[1;32mTrue\u001b[0m\u001b[1;33m)\u001b[0m\u001b[1;33m\u001b[0m\u001b[1;33m\u001b[0m\u001b[0m\n\u001b[0m",
      "\u001b[1;32m~\\anaconda3\\lib\\site-packages\\pandas\\core\\frame.py\u001b[0m in \u001b[0;36mset_index\u001b[1;34m(self, keys, drop, append, inplace, verify_integrity)\u001b[0m\n\u001b[0;32m   4725\u001b[0m \u001b[1;33m\u001b[0m\u001b[0m\n\u001b[0;32m   4726\u001b[0m         \u001b[1;32mif\u001b[0m \u001b[0mmissing\u001b[0m\u001b[1;33m:\u001b[0m\u001b[1;33m\u001b[0m\u001b[1;33m\u001b[0m\u001b[0m\n\u001b[1;32m-> 4727\u001b[1;33m             \u001b[1;32mraise\u001b[0m \u001b[0mKeyError\u001b[0m\u001b[1;33m(\u001b[0m\u001b[1;34mf\"None of {missing} are in the columns\"\u001b[0m\u001b[1;33m)\u001b[0m\u001b[1;33m\u001b[0m\u001b[1;33m\u001b[0m\u001b[0m\n\u001b[0m\u001b[0;32m   4728\u001b[0m \u001b[1;33m\u001b[0m\u001b[0m\n\u001b[0;32m   4729\u001b[0m         \u001b[1;32mif\u001b[0m \u001b[0minplace\u001b[0m\u001b[1;33m:\u001b[0m\u001b[1;33m\u001b[0m\u001b[1;33m\u001b[0m\u001b[0m\n",
      "\u001b[1;31mKeyError\u001b[0m: \"None of ['States'] are in the columns\""
     ]
    }
   ],
   "source": [
    "df.set_index('States',inplace=True)"
   ]
  },
  {
   "cell_type": "code",
   "execution_count": 134,
   "id": "35a2587e",
   "metadata": {},
   "outputs": [],
   "source": [
    "# Index Levels\n",
    "outside = ['G1','G1','G1','G2','G2','G2']\n",
    "inside = [1,2,3,1,2,3]\n",
    "hier_index = list(zip(outside,inside))\n",
    "hier_index = pd.MultiIndex.from_tuples(hier_index)"
   ]
  },
  {
   "cell_type": "code",
   "execution_count": 135,
   "id": "0168d5d9",
   "metadata": {},
   "outputs": [
    {
     "data": {
      "text/plain": [
       "MultiIndex([('G1', 1),\n",
       "            ('G1', 2),\n",
       "            ('G1', 3),\n",
       "            ('G2', 1),\n",
       "            ('G2', 2),\n",
       "            ('G2', 3)],\n",
       "           )"
      ]
     },
     "execution_count": 135,
     "metadata": {},
     "output_type": "execute_result"
    }
   ],
   "source": [
    "hier_index"
   ]
  },
  {
   "cell_type": "code",
   "execution_count": 142,
   "id": "43d4aa51",
   "metadata": {},
   "outputs": [],
   "source": [
    "bf=pd.DataFrame(np.random.randn(6,2),index=hier_index,columns=['A','B'])"
   ]
  },
  {
   "cell_type": "code",
   "execution_count": 146,
   "id": "75024095",
   "metadata": {},
   "outputs": [
    {
     "data": {
      "text/html": [
       "<div>\n",
       "<style scoped>\n",
       "    .dataframe tbody tr th:only-of-type {\n",
       "        vertical-align: middle;\n",
       "    }\n",
       "\n",
       "    .dataframe tbody tr th {\n",
       "        vertical-align: top;\n",
       "    }\n",
       "\n",
       "    .dataframe thead th {\n",
       "        text-align: right;\n",
       "    }\n",
       "</style>\n",
       "<table border=\"1\" class=\"dataframe\">\n",
       "  <thead>\n",
       "    <tr style=\"text-align: right;\">\n",
       "      <th></th>\n",
       "      <th></th>\n",
       "      <th>A</th>\n",
       "      <th>B</th>\n",
       "    </tr>\n",
       "  </thead>\n",
       "  <tbody>\n",
       "    <tr>\n",
       "      <th rowspan=\"3\" valign=\"top\">G1</th>\n",
       "      <th>1</th>\n",
       "      <td>-1.097693</td>\n",
       "      <td>-1.908009</td>\n",
       "    </tr>\n",
       "    <tr>\n",
       "      <th>2</th>\n",
       "      <td>-0.380104</td>\n",
       "      <td>-1.666059</td>\n",
       "    </tr>\n",
       "    <tr>\n",
       "      <th>3</th>\n",
       "      <td>-2.736995</td>\n",
       "      <td>1.522562</td>\n",
       "    </tr>\n",
       "    <tr>\n",
       "      <th rowspan=\"3\" valign=\"top\">G2</th>\n",
       "      <th>1</th>\n",
       "      <td>0.178009</td>\n",
       "      <td>-0.626805</td>\n",
       "    </tr>\n",
       "    <tr>\n",
       "      <th>2</th>\n",
       "      <td>-0.391089</td>\n",
       "      <td>1.743477</td>\n",
       "    </tr>\n",
       "    <tr>\n",
       "      <th>3</th>\n",
       "      <td>1.130018</td>\n",
       "      <td>0.897796</td>\n",
       "    </tr>\n",
       "  </tbody>\n",
       "</table>\n",
       "</div>"
      ],
      "text/plain": [
       "             A         B\n",
       "G1 1 -1.097693 -1.908009\n",
       "   2 -0.380104 -1.666059\n",
       "   3 -2.736995  1.522562\n",
       "G2 1  0.178009 -0.626805\n",
       "   2 -0.391089  1.743477\n",
       "   3  1.130018  0.897796"
      ]
     },
     "execution_count": 146,
     "metadata": {},
     "output_type": "execute_result"
    }
   ],
   "source": [
    "bf"
   ]
  },
  {
   "cell_type": "code",
   "execution_count": 148,
   "id": "f0dad67a",
   "metadata": {},
   "outputs": [
    {
     "data": {
      "text/html": [
       "<div>\n",
       "<style scoped>\n",
       "    .dataframe tbody tr th:only-of-type {\n",
       "        vertical-align: middle;\n",
       "    }\n",
       "\n",
       "    .dataframe tbody tr th {\n",
       "        vertical-align: top;\n",
       "    }\n",
       "\n",
       "    .dataframe thead th {\n",
       "        text-align: right;\n",
       "    }\n",
       "</style>\n",
       "<table border=\"1\" class=\"dataframe\">\n",
       "  <thead>\n",
       "    <tr style=\"text-align: right;\">\n",
       "      <th></th>\n",
       "      <th>A</th>\n",
       "      <th>B</th>\n",
       "    </tr>\n",
       "  </thead>\n",
       "  <tbody>\n",
       "    <tr>\n",
       "      <th>1</th>\n",
       "      <td>-1.097693</td>\n",
       "      <td>-1.908009</td>\n",
       "    </tr>\n",
       "    <tr>\n",
       "      <th>2</th>\n",
       "      <td>-0.380104</td>\n",
       "      <td>-1.666059</td>\n",
       "    </tr>\n",
       "    <tr>\n",
       "      <th>3</th>\n",
       "      <td>-2.736995</td>\n",
       "      <td>1.522562</td>\n",
       "    </tr>\n",
       "  </tbody>\n",
       "</table>\n",
       "</div>"
      ],
      "text/plain": [
       "          A         B\n",
       "1 -1.097693 -1.908009\n",
       "2 -0.380104 -1.666059\n",
       "3 -2.736995  1.522562"
      ]
     },
     "execution_count": 148,
     "metadata": {},
     "output_type": "execute_result"
    }
   ],
   "source": [
    "bf.loc['G1']"
   ]
  },
  {
   "cell_type": "code",
   "execution_count": 150,
   "id": "669d40dd",
   "metadata": {},
   "outputs": [
    {
     "data": {
      "text/plain": [
       "A   -0.380104\n",
       "B   -1.666059\n",
       "Name: 2, dtype: float64"
      ]
     },
     "execution_count": 150,
     "metadata": {},
     "output_type": "execute_result"
    }
   ],
   "source": [
    "bf.loc['G1'].loc[2]"
   ]
  },
  {
   "cell_type": "code",
   "execution_count": 151,
   "id": "00ebc073",
   "metadata": {},
   "outputs": [
    {
     "data": {
      "text/plain": [
       "FrozenList([None, None])"
      ]
     },
     "execution_count": 151,
     "metadata": {},
     "output_type": "execute_result"
    }
   ],
   "source": [
    "bf.index.names"
   ]
  },
  {
   "cell_type": "code",
   "execution_count": 157,
   "id": "e84bb886",
   "metadata": {},
   "outputs": [],
   "source": [
    "bf.index.names=['Group','Num']"
   ]
  },
  {
   "cell_type": "code",
   "execution_count": 158,
   "id": "73398d68",
   "metadata": {},
   "outputs": [
    {
     "data": {
      "text/html": [
       "<div>\n",
       "<style scoped>\n",
       "    .dataframe tbody tr th:only-of-type {\n",
       "        vertical-align: middle;\n",
       "    }\n",
       "\n",
       "    .dataframe tbody tr th {\n",
       "        vertical-align: top;\n",
       "    }\n",
       "\n",
       "    .dataframe thead th {\n",
       "        text-align: right;\n",
       "    }\n",
       "</style>\n",
       "<table border=\"1\" class=\"dataframe\">\n",
       "  <thead>\n",
       "    <tr style=\"text-align: right;\">\n",
       "      <th></th>\n",
       "      <th></th>\n",
       "      <th>A</th>\n",
       "      <th>B</th>\n",
       "    </tr>\n",
       "    <tr>\n",
       "      <th>Group</th>\n",
       "      <th>Num</th>\n",
       "      <th></th>\n",
       "      <th></th>\n",
       "    </tr>\n",
       "  </thead>\n",
       "  <tbody>\n",
       "    <tr>\n",
       "      <th rowspan=\"3\" valign=\"top\">G1</th>\n",
       "      <th>1</th>\n",
       "      <td>-1.097693</td>\n",
       "      <td>-1.908009</td>\n",
       "    </tr>\n",
       "    <tr>\n",
       "      <th>2</th>\n",
       "      <td>-0.380104</td>\n",
       "      <td>-1.666059</td>\n",
       "    </tr>\n",
       "    <tr>\n",
       "      <th>3</th>\n",
       "      <td>-2.736995</td>\n",
       "      <td>1.522562</td>\n",
       "    </tr>\n",
       "    <tr>\n",
       "      <th rowspan=\"3\" valign=\"top\">G2</th>\n",
       "      <th>1</th>\n",
       "      <td>0.178009</td>\n",
       "      <td>-0.626805</td>\n",
       "    </tr>\n",
       "    <tr>\n",
       "      <th>2</th>\n",
       "      <td>-0.391089</td>\n",
       "      <td>1.743477</td>\n",
       "    </tr>\n",
       "    <tr>\n",
       "      <th>3</th>\n",
       "      <td>1.130018</td>\n",
       "      <td>0.897796</td>\n",
       "    </tr>\n",
       "  </tbody>\n",
       "</table>\n",
       "</div>"
      ],
      "text/plain": [
       "                  A         B\n",
       "Group Num                    \n",
       "G1    1   -1.097693 -1.908009\n",
       "      2   -0.380104 -1.666059\n",
       "      3   -2.736995  1.522562\n",
       "G2    1    0.178009 -0.626805\n",
       "      2   -0.391089  1.743477\n",
       "      3    1.130018  0.897796"
      ]
     },
     "execution_count": 158,
     "metadata": {},
     "output_type": "execute_result"
    }
   ],
   "source": [
    "bf\n"
   ]
  },
  {
   "cell_type": "code",
   "execution_count": 159,
   "id": "c8f0fdb7",
   "metadata": {},
   "outputs": [],
   "source": [
    "df = pd.DataFrame({'A':[1,2,np.nan],\n",
    "                  'B':[5,np.nan,np.nan],\n",
    "                  'C':[1,2,3]})"
   ]
  },
  {
   "cell_type": "code",
   "execution_count": 160,
   "id": "647e163a",
   "metadata": {},
   "outputs": [
    {
     "data": {
      "text/html": [
       "<div>\n",
       "<style scoped>\n",
       "    .dataframe tbody tr th:only-of-type {\n",
       "        vertical-align: middle;\n",
       "    }\n",
       "\n",
       "    .dataframe tbody tr th {\n",
       "        vertical-align: top;\n",
       "    }\n",
       "\n",
       "    .dataframe thead th {\n",
       "        text-align: right;\n",
       "    }\n",
       "</style>\n",
       "<table border=\"1\" class=\"dataframe\">\n",
       "  <thead>\n",
       "    <tr style=\"text-align: right;\">\n",
       "      <th></th>\n",
       "      <th>A</th>\n",
       "      <th>B</th>\n",
       "      <th>C</th>\n",
       "    </tr>\n",
       "  </thead>\n",
       "  <tbody>\n",
       "    <tr>\n",
       "      <th>0</th>\n",
       "      <td>1.0</td>\n",
       "      <td>5.0</td>\n",
       "      <td>1</td>\n",
       "    </tr>\n",
       "    <tr>\n",
       "      <th>1</th>\n",
       "      <td>2.0</td>\n",
       "      <td>NaN</td>\n",
       "      <td>2</td>\n",
       "    </tr>\n",
       "    <tr>\n",
       "      <th>2</th>\n",
       "      <td>NaN</td>\n",
       "      <td>NaN</td>\n",
       "      <td>3</td>\n",
       "    </tr>\n",
       "  </tbody>\n",
       "</table>\n",
       "</div>"
      ],
      "text/plain": [
       "     A    B  C\n",
       "0  1.0  5.0  1\n",
       "1  2.0  NaN  2\n",
       "2  NaN  NaN  3"
      ]
     },
     "execution_count": 160,
     "metadata": {},
     "output_type": "execute_result"
    }
   ],
   "source": [
    "df"
   ]
  },
  {
   "cell_type": "code",
   "execution_count": 161,
   "id": "17b805d9",
   "metadata": {},
   "outputs": [
    {
     "data": {
      "text/html": [
       "<div>\n",
       "<style scoped>\n",
       "    .dataframe tbody tr th:only-of-type {\n",
       "        vertical-align: middle;\n",
       "    }\n",
       "\n",
       "    .dataframe tbody tr th {\n",
       "        vertical-align: top;\n",
       "    }\n",
       "\n",
       "    .dataframe thead th {\n",
       "        text-align: right;\n",
       "    }\n",
       "</style>\n",
       "<table border=\"1\" class=\"dataframe\">\n",
       "  <thead>\n",
       "    <tr style=\"text-align: right;\">\n",
       "      <th></th>\n",
       "      <th>A</th>\n",
       "      <th>B</th>\n",
       "      <th>C</th>\n",
       "    </tr>\n",
       "  </thead>\n",
       "  <tbody>\n",
       "    <tr>\n",
       "      <th>0</th>\n",
       "      <td>1.0</td>\n",
       "      <td>5.0</td>\n",
       "      <td>1</td>\n",
       "    </tr>\n",
       "  </tbody>\n",
       "</table>\n",
       "</div>"
      ],
      "text/plain": [
       "     A    B  C\n",
       "0  1.0  5.0  1"
      ]
     },
     "execution_count": 161,
     "metadata": {},
     "output_type": "execute_result"
    }
   ],
   "source": [
    "df.dropna()"
   ]
  },
  {
   "cell_type": "code",
   "execution_count": 165,
   "id": "88110645",
   "metadata": {},
   "outputs": [
    {
     "data": {
      "text/html": [
       "<div>\n",
       "<style scoped>\n",
       "    .dataframe tbody tr th:only-of-type {\n",
       "        vertical-align: middle;\n",
       "    }\n",
       "\n",
       "    .dataframe tbody tr th {\n",
       "        vertical-align: top;\n",
       "    }\n",
       "\n",
       "    .dataframe thead th {\n",
       "        text-align: right;\n",
       "    }\n",
       "</style>\n",
       "<table border=\"1\" class=\"dataframe\">\n",
       "  <thead>\n",
       "    <tr style=\"text-align: right;\">\n",
       "      <th></th>\n",
       "      <th>C</th>\n",
       "    </tr>\n",
       "  </thead>\n",
       "  <tbody>\n",
       "    <tr>\n",
       "      <th>0</th>\n",
       "      <td>1</td>\n",
       "    </tr>\n",
       "    <tr>\n",
       "      <th>1</th>\n",
       "      <td>2</td>\n",
       "    </tr>\n",
       "    <tr>\n",
       "      <th>2</th>\n",
       "      <td>3</td>\n",
       "    </tr>\n",
       "  </tbody>\n",
       "</table>\n",
       "</div>"
      ],
      "text/plain": [
       "   C\n",
       "0  1\n",
       "1  2\n",
       "2  3"
      ]
     },
     "execution_count": 165,
     "metadata": {},
     "output_type": "execute_result"
    }
   ],
   "source": [
    "df.dropna(axis=1)"
   ]
  },
  {
   "cell_type": "code",
   "execution_count": 166,
   "id": "ed15db6c",
   "metadata": {},
   "outputs": [
    {
     "data": {
      "text/html": [
       "<div>\n",
       "<style scoped>\n",
       "    .dataframe tbody tr th:only-of-type {\n",
       "        vertical-align: middle;\n",
       "    }\n",
       "\n",
       "    .dataframe tbody tr th {\n",
       "        vertical-align: top;\n",
       "    }\n",
       "\n",
       "    .dataframe thead th {\n",
       "        text-align: right;\n",
       "    }\n",
       "</style>\n",
       "<table border=\"1\" class=\"dataframe\">\n",
       "  <thead>\n",
       "    <tr style=\"text-align: right;\">\n",
       "      <th></th>\n",
       "      <th>A</th>\n",
       "      <th>B</th>\n",
       "      <th>C</th>\n",
       "    </tr>\n",
       "  </thead>\n",
       "  <tbody>\n",
       "    <tr>\n",
       "      <th>0</th>\n",
       "      <td>1.0</td>\n",
       "      <td>5.0</td>\n",
       "      <td>1</td>\n",
       "    </tr>\n",
       "    <tr>\n",
       "      <th>1</th>\n",
       "      <td>2.0</td>\n",
       "      <td>NaN</td>\n",
       "      <td>2</td>\n",
       "    </tr>\n",
       "  </tbody>\n",
       "</table>\n",
       "</div>"
      ],
      "text/plain": [
       "     A    B  C\n",
       "0  1.0  5.0  1\n",
       "1  2.0  NaN  2"
      ]
     },
     "execution_count": 166,
     "metadata": {},
     "output_type": "execute_result"
    }
   ],
   "source": [
    "df.dropna(thresh=2)"
   ]
  },
  {
   "cell_type": "code",
   "execution_count": 169,
   "id": "32354744",
   "metadata": {},
   "outputs": [
    {
     "data": {
      "text/html": [
       "<div>\n",
       "<style scoped>\n",
       "    .dataframe tbody tr th:only-of-type {\n",
       "        vertical-align: middle;\n",
       "    }\n",
       "\n",
       "    .dataframe tbody tr th {\n",
       "        vertical-align: top;\n",
       "    }\n",
       "\n",
       "    .dataframe thead th {\n",
       "        text-align: right;\n",
       "    }\n",
       "</style>\n",
       "<table border=\"1\" class=\"dataframe\">\n",
       "  <thead>\n",
       "    <tr style=\"text-align: right;\">\n",
       "      <th></th>\n",
       "      <th>A</th>\n",
       "      <th>B</th>\n",
       "      <th>C</th>\n",
       "    </tr>\n",
       "  </thead>\n",
       "  <tbody>\n",
       "    <tr>\n",
       "      <th>0</th>\n",
       "      <td>1.0</td>\n",
       "      <td>5.0</td>\n",
       "      <td>1</td>\n",
       "    </tr>\n",
       "    <tr>\n",
       "      <th>1</th>\n",
       "      <td>2.0</td>\n",
       "      <td>20</td>\n",
       "      <td>2</td>\n",
       "    </tr>\n",
       "    <tr>\n",
       "      <th>2</th>\n",
       "      <td>20</td>\n",
       "      <td>20</td>\n",
       "      <td>3</td>\n",
       "    </tr>\n",
       "  </tbody>\n",
       "</table>\n",
       "</div>"
      ],
      "text/plain": [
       "     A    B  C\n",
       "0  1.0  5.0  1\n",
       "1  2.0   20  2\n",
       "2   20   20  3"
      ]
     },
     "execution_count": 169,
     "metadata": {},
     "output_type": "execute_result"
    }
   ],
   "source": [
    "df.fillna(value='20')"
   ]
  },
  {
   "cell_type": "code",
   "execution_count": 170,
   "id": "0474f93d",
   "metadata": {},
   "outputs": [
    {
     "data": {
      "text/html": [
       "<div>\n",
       "<style scoped>\n",
       "    .dataframe tbody tr th:only-of-type {\n",
       "        vertical-align: middle;\n",
       "    }\n",
       "\n",
       "    .dataframe tbody tr th {\n",
       "        vertical-align: top;\n",
       "    }\n",
       "\n",
       "    .dataframe thead th {\n",
       "        text-align: right;\n",
       "    }\n",
       "</style>\n",
       "<table border=\"1\" class=\"dataframe\">\n",
       "  <thead>\n",
       "    <tr style=\"text-align: right;\">\n",
       "      <th></th>\n",
       "      <th>A</th>\n",
       "      <th>B</th>\n",
       "      <th>C</th>\n",
       "    </tr>\n",
       "  </thead>\n",
       "  <tbody>\n",
       "    <tr>\n",
       "      <th>0</th>\n",
       "      <td>1.0</td>\n",
       "      <td>5.0</td>\n",
       "      <td>1</td>\n",
       "    </tr>\n",
       "    <tr>\n",
       "      <th>1</th>\n",
       "      <td>2.0</td>\n",
       "      <td>mean</td>\n",
       "      <td>2</td>\n",
       "    </tr>\n",
       "    <tr>\n",
       "      <th>2</th>\n",
       "      <td>mean</td>\n",
       "      <td>mean</td>\n",
       "      <td>3</td>\n",
       "    </tr>\n",
       "  </tbody>\n",
       "</table>\n",
       "</div>"
      ],
      "text/plain": [
       "      A     B  C\n",
       "0   1.0   5.0  1\n",
       "1   2.0  mean  2\n",
       "2  mean  mean  3"
      ]
     },
     "execution_count": 170,
     "metadata": {},
     "output_type": "execute_result"
    }
   ],
   "source": [
    "df.fillna(value='mean')"
   ]
  },
  {
   "cell_type": "code",
   "execution_count": 181,
   "id": "e0aa7bcd",
   "metadata": {},
   "outputs": [
    {
     "data": {
      "text/html": [
       "<div>\n",
       "<style scoped>\n",
       "    .dataframe tbody tr th:only-of-type {\n",
       "        vertical-align: middle;\n",
       "    }\n",
       "\n",
       "    .dataframe tbody tr th {\n",
       "        vertical-align: top;\n",
       "    }\n",
       "\n",
       "    .dataframe thead th {\n",
       "        text-align: right;\n",
       "    }\n",
       "</style>\n",
       "<table border=\"1\" class=\"dataframe\">\n",
       "  <thead>\n",
       "    <tr style=\"text-align: right;\">\n",
       "      <th></th>\n",
       "      <th>A</th>\n",
       "      <th>B</th>\n",
       "    </tr>\n",
       "  </thead>\n",
       "  <tbody>\n",
       "    <tr>\n",
       "      <th>0</th>\n",
       "      <td>1.0</td>\n",
       "      <td>5.0</td>\n",
       "    </tr>\n",
       "    <tr>\n",
       "      <th>1</th>\n",
       "      <td>2.0</td>\n",
       "      <td>NaN</td>\n",
       "    </tr>\n",
       "    <tr>\n",
       "      <th>2</th>\n",
       "      <td>NaN</td>\n",
       "      <td>NaN</td>\n",
       "    </tr>\n",
       "  </tbody>\n",
       "</table>\n",
       "</div>"
      ],
      "text/plain": [
       "     A    B\n",
       "0  1.0  5.0\n",
       "1  2.0  NaN\n",
       "2  NaN  NaN"
      ]
     },
     "execution_count": 181,
     "metadata": {},
     "output_type": "execute_result"
    }
   ],
   "source": [
    "df[['A','B']].fillna(value=df[['A','B']].mode())"
   ]
  },
  {
   "cell_type": "code",
   "execution_count": null,
   "id": "71244645",
   "metadata": {},
   "outputs": [],
   "source": []
  }
 ],
 "metadata": {
  "kernelspec": {
   "display_name": "Python 3",
   "language": "python",
   "name": "python3"
  },
  "language_info": {
   "codemirror_mode": {
    "name": "ipython",
    "version": 3
   },
   "file_extension": ".py",
   "mimetype": "text/x-python",
   "name": "python",
   "nbconvert_exporter": "python",
   "pygments_lexer": "ipython3",
   "version": "3.8.8"
  }
 },
 "nbformat": 4,
 "nbformat_minor": 5
}
